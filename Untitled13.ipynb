{
 "cells": [
  {
   "cell_type": "code",
   "execution_count": 6,
   "id": "665f1224-6e23-4e17-bdbc-f3065763c484",
   "metadata": {},
   "outputs": [
    {
     "name": "stdin",
     "output_type": "stream",
     "text": [
      "Do you want to encrypt or decrypt? (e/d):  d\n",
      "Enter the message:  Texksn\n",
      "Enter the shift value:  10\n"
     ]
    },
    {
     "name": "stdout",
     "output_type": "stream",
     "text": [
      "Decrypted message: Junaid\n"
     ]
    }
   ],
   "source": [
    "def encrypt(text, shift):\n",
    "    \"\"\"Encrypt the text using Caesar cipher with the given shift.\"\"\"\n",
    "    encrypted_text = \"\"\n",
    "    for char in text:\n",
    "        # Check if the character is a letter\n",
    "        if char.isalpha():\n",
    "            # Handle uppercase and lowercase letters separately\n",
    "            ascii_offset = 65 if char.isupper() else 97\n",
    "            # Shift the character and wrap around if necessary\n",
    "            encrypted_char = chr(((ord(char) - ascii_offset + shift) % 26) + ascii_offset)\n",
    "            encrypted_text += encrypted_char\n",
    "        else:\n",
    "            # Keep non-alphabetic characters unchanged\n",
    "            encrypted_text += char\n",
    "    return encrypted_text\n",
    "\n",
    "def decrypt(text, shift):\n",
    "    \"\"\"Decrypt the text using Caesar cipher with the given shift.\"\"\"\n",
    "    return encrypt(text, -shift)\n",
    "\n",
    "def main():\n",
    "    \"\"\"Main function to run the Caesar cipher program.\"\"\"\n",
    "    # Get user input\n",
    "    choice = input(\"Do you want to encrypt or decrypt? (e/d): \").lower()\n",
    "    text = input(\"Enter the message: \")\n",
    "    shift = int(input(\"Enter the shift value: \"))\n",
    "\n",
    "    if choice == 'e':\n",
    "        encrypted_message = encrypt(text, shift)\n",
    "        print(f\"Encrypted message: {encrypted_message}\")\n",
    "    elif choice == 'd':\n",
    "        decrypted_message = decrypt(text, shift)\n",
    "        print(f\"Decrypted message: {decrypted_message}\")\n",
    "    else:\n",
    "        print(\"Invalid choice. Please enter 'e' to encrypt or 'd' to decrypt.\")\n",
    "\n",
    "if __name__ == \"__main__\":\n",
    "    main()\n"
   ]
  }
 ],
 "metadata": {
  "kernelspec": {
   "display_name": "Python 3 (ipykernel)",
   "language": "python",
   "name": "python3"
  },
  "language_info": {
   "codemirror_mode": {
    "name": "ipython",
    "version": 3
   },
   "file_extension": ".py",
   "mimetype": "text/x-python",
   "name": "python",
   "nbconvert_exporter": "python",
   "pygments_lexer": "ipython3",
   "version": "3.11.7"
  }
 },
 "nbformat": 4,
 "nbformat_minor": 5
}
